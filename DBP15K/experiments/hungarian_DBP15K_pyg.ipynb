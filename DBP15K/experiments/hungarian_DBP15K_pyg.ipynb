{
 "cells": [
  {
   "cell_type": "code",
   "execution_count": 38,
   "metadata": {},
   "outputs": [],
   "source": [
    "from scipy.optimize import linear_sum_assignment\n",
    "from torch_geometric.datasets import DBP15K\n",
    "from sklearn.metrics import pairwise_distances\n",
    "from time import time\n",
    "import numpy as np\n",
    "import torch"
   ]
  },
  {
   "cell_type": "code",
   "execution_count": 2,
   "metadata": {},
   "outputs": [],
   "source": [
    "class SumEmbedding(object):\n",
    "    def __call__(self, data):\n",
    "        data.x1, data.x2 = data.x1.sum(dim=1), data.x2.sum(dim=1)\n",
    "        return data"
   ]
  },
  {
   "cell_type": "code",
   "execution_count": 4,
   "metadata": {},
   "outputs": [],
   "source": [
    "data = DBP15K(root='', pair='en_fr', transform=SumEmbedding())[0]"
   ]
  },
  {
   "cell_type": "code",
   "execution_count": 36,
   "metadata": {},
   "outputs": [
    {
     "name": "stdout",
     "output_type": "stream",
     "text": [
      "10 eucl: 1.00, cos: 1.00, time: 0.00\n",
      "100 eucl: 0.98, cos: 0.98, time: 0.00\n",
      "300 eucl: 0.94, cos: 0.97, time: 0.01\n",
      "500 eucl: 0.93, cos: 0.96, time: 0.03\n",
      "1000 eucl: 0.93, cos: 0.95, time: 0.10\n",
      "2000 eucl: 0.90, cos: 0.94, time: 0.70\n",
      "4000 eucl: 0.89, cos: 0.93, time: 5.08\n",
      "8000 eucl: 0.88, cos: 0.92, time: 36.01\n",
      "14120 eucl: 0.87, cos: 0.91, time: 192.11\n"
     ]
    }
   ],
   "source": [
    "times = []\n",
    "for i in [10, 100, 300, 500, 1000, 2000, 4000, 8000, 14120]:\n",
    "    x_fr = data.x1[:i]\n",
    "    x_en = data.x2[:i]\n",
    "    sim_eucl = pairwise_distances(x_fr, x_en)\n",
    "    sim_cos = pairwise_distances(x_fr, x_en, metric='cosine')\n",
    "    start = time()\n",
    "    match_eucl = linear_sum_assignment(sim_eucl)\n",
    "    match_cos = linear_sum_assignment(sim_cos)\n",
    "    end = time()\n",
    "    times.append(end - start)\n",
    "    hits_at_1_eucl = (match_eucl[0] == match_eucl[1]).sum() / i\n",
    "    hits_at_1_cos = (match_cos[0] == match_cos[1]).sum() / i\n",
    "    print(f'{i} eucl: {hits_at_1_eucl:.02f}, cos: {hits_at_1_cos:.02f}, time: {end - start:.02f}')"
   ]
  },
  {
   "cell_type": "code",
   "execution_count": 39,
   "metadata": {},
   "outputs": [],
   "source": [
    "fr_degree_dict = {}\n",
    "fr_neigh_dict = {}\n",
    "fr_features = np.empty((data.x1.shape[0], 5))\n",
    "\n",
    "for edge in data.edge_index1.T:\n",
    "    s, t = list(map(int, edge))\n",
    "    fr_degree_dict[s] = fr_degree_dict.setdefault(s, 0) + 1\n",
    "    fr_degree_dict[t] = fr_degree_dict.setdefault(t, 0) + 1\n",
    "\n",
    "for edge in data.edge_index1.T:\n",
    "    s, t = list(map(int, edge))\n",
    "    fr_neigh_dict[s] = np.append(fr_neigh_dict.setdefault(s, np.array([])), fr_degree_dict[t])\n",
    "    fr_neigh_dict[t] = np.append(fr_neigh_dict.setdefault(t, np.array([])), fr_degree_dict[s])\n",
    "    \n",
    "for i in range(data.x1.shape[0]):\n",
    "    degree_seq = fr_neigh_dict[i]\n",
    "    deg = fr_degree_dict[i]\n",
    "    min_deg = np.min(degree_seq)\n",
    "    max_deg = np.max(degree_seq)\n",
    "    mean_deg = np.mean(degree_seq)\n",
    "    std_deg = np.std(degree_seq)\n",
    "    fr_features[i][0] = deg\n",
    "    fr_features[i][1] = min_deg\n",
    "    fr_features[i][2] = max_deg\n",
    "    fr_features[i][3] = mean_deg\n",
    "    fr_features[i][4] = std_deg\n",
    "    \n",
    "del(fr_degree_dict)\n",
    "del(fr_neigh_dict)\n",
    "\n",
    "x1 = torch.tensor(fr_features).float()\n",
    "\n",
    "\n",
    "en_degree_dict = {}\n",
    "en_neigh_dict = {}\n",
    "en_features = np.empty((data.x2.shape[0], 5))\n",
    "\n",
    "for edge in data.edge_index2.T:\n",
    "    s, t = list(map(int, edge))\n",
    "    en_degree_dict[s] = en_degree_dict.setdefault(s, 0) + 1\n",
    "    en_degree_dict[t] = en_degree_dict.setdefault(t, 0) + 1\n",
    "\n",
    "for edge in data.edge_index2.T:\n",
    "    s, t = list(map(int, edge))\n",
    "    en_neigh_dict[s] = np.append(en_neigh_dict.setdefault(s, np.array([])), en_degree_dict[t])\n",
    "    en_neigh_dict[t] = np.append(en_neigh_dict.setdefault(t, np.array([])), en_degree_dict[s])\n",
    "\n",
    "for i in range(data.x2.shape[0]):\n",
    "    degree_seq = en_neigh_dict[i]\n",
    "    deg = en_degree_dict[i]\n",
    "    min_deg = np.min(degree_seq)\n",
    "    max_deg = np.max(degree_seq)\n",
    "    mean_deg = np.mean(degree_seq)\n",
    "    std_deg = np.std(degree_seq)\n",
    "    en_features[i][0] = deg\n",
    "    en_features[i][1] = min_deg\n",
    "    en_features[i][2] = max_deg\n",
    "    en_features[i][3] = mean_deg\n",
    "    en_features[i][4] = std_deg\n",
    "    \n",
    "del(en_degree_dict)\n",
    "del(en_neigh_dict)\n",
    "\n",
    "x2 = torch.tensor(en_features).float()"
   ]
  },
  {
   "cell_type": "code",
   "execution_count": 41,
   "metadata": {},
   "outputs": [
    {
     "name": "stdout",
     "output_type": "stream",
     "text": [
      "10 eucl: 0.2000, cos: 0.1000, time: 0.00\n",
      "100 eucl: 0.0800, cos: 0.0800, time: 0.00\n",
      "300 eucl: 0.0500, cos: 0.0333, time: 0.05\n",
      "500 eucl: 0.0380, cos: 0.0360, time: 0.18\n",
      "1000 eucl: 0.0140, cos: 0.0100, time: 1.25\n",
      "2000 eucl: 0.0120, cos: 0.0080, time: 9.35\n",
      "4000 eucl: 0.0088, cos: 0.0037, time: 84.24\n",
      "8000 eucl: 0.0039, cos: 0.0040, time: 700.05\n",
      "14120 eucl: 0.0022, cos: 0.0024, time: 4193.74\n"
     ]
    }
   ],
   "source": [
    "times = []\n",
    "for i in [10, 100, 300, 500, 1000, 2000, 4000, 8000, 14120]:\n",
    "    x_fr = x1[:i]\n",
    "    x_en = x2[:i]\n",
    "    sim_eucl = x_fr @ x_en.T\n",
    "    sim_cos = pairwise_distances(x_fr, x_en, metric='cosine')\n",
    "    start = time()\n",
    "    match_eucl = linear_sum_assignment(sim_eucl, maximize=True)\n",
    "    match_cos = linear_sum_assignment(sim_cos)\n",
    "    end = time()\n",
    "    times.append(end - start)\n",
    "    hits_at_1_eucl = (match_eucl[0] == match_eucl[1]).sum() / i\n",
    "    hits_at_1_cos = (match_cos[0] == match_cos[1]).sum() / i\n",
    "    print(f'{i} eucl: {hits_at_1_eucl:.04f}, cos: {hits_at_1_cos:.04f}, time: {end - start:.02f}')"
   ]
  }
 ],
 "metadata": {
  "kernelspec": {
   "display_name": "Python 3",
   "language": "python",
   "name": "python3"
  },
  "language_info": {
   "codemirror_mode": {
    "name": "ipython",
    "version": 3
   },
   "file_extension": ".py",
   "mimetype": "text/x-python",
   "name": "python",
   "nbconvert_exporter": "python",
   "pygments_lexer": "ipython3",
   "version": "3.7.6"
  }
 },
 "nbformat": 4,
 "nbformat_minor": 4
}
