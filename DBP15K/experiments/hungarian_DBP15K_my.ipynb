{
 "cells": [
  {
   "cell_type": "code",
   "execution_count": 1,
   "metadata": {},
   "outputs": [],
   "source": [
    "from scipy.optimize import linear_sum_assignment\n",
    "from sklearn.metrics import pairwise_distances\n",
    "from time import time\n",
    "import numpy as np\n",
    "import torch"
   ]
  },
  {
   "cell_type": "code",
   "execution_count": 2,
   "metadata": {},
   "outputs": [],
   "source": [
    "x1_path = '../preprocessing/processed_data/graph_data/fr_entities_features.pt'\n",
    "x2_path = '../preprocessing/processed_data/graph_data/en_entities_features.pt'\n",
    "edge_index1_path = '../preprocessing/processed_data/graph_data/fr_edge_index.pt'\n",
    "edge_index2_path = '../preprocessing/processed_data/graph_data/en_edge_index.pt'\n",
    "\n",
    "x1 = torch.load(x1_path).float()\n",
    "x2 = torch.load(x2_path).float()\n",
    "edge_index1 = torch.load(edge_index1_path).float()\n",
    "edge_index2 = torch.load(edge_index2_path).float()"
   ]
  },
  {
   "cell_type": "markdown",
   "metadata": {},
   "source": [
    "#### Hungarian algorithm on embeddings"
   ]
  },
  {
   "cell_type": "code",
   "execution_count": 6,
   "metadata": {},
   "outputs": [
    {
     "name": "stdout",
     "output_type": "stream",
     "text": [
      "10 eucl: 0.6000, cos: 0.6000, time: 0.00\n",
      "100 eucl: 0.1700, cos: 0.1200, time: 0.00\n",
      "300 eucl: 0.0500, cos: 0.0400, time: 0.04\n",
      "500 eucl: 0.0320, cos: 0.0220, time: 0.14\n",
      "1000 eucl: 0.0240, cos: 0.0120, time: 0.79\n",
      "2000 eucl: 0.0095, cos: 0.0065, time: 4.78\n",
      "4000 eucl: 0.0100, cos: 0.0063, time: 38.23\n",
      "8000 eucl: 0.0053, cos: 0.0037, time: 268.26\n",
      "15000 eucl: 0.0031, cos: 0.0015, time: 1749.35\n"
     ]
    }
   ],
   "source": [
    "times = []\n",
    "for i in [10, 100, 300, 500, 1000, 2000, 4000, 8000, 15000]:\n",
    "    x_pm = x1[:i]\n",
    "    x_ot = x2[:i]\n",
    "    sim_eucl = pairwise_distances(x_pm, x_ot)\n",
    "    sim_cos = pairwise_distances(x_pm, x_ot, metric='cosine')\n",
    "    start = time()\n",
    "    match_eucl = linear_sum_assignment(sim_eucl)\n",
    "    match_cos = linear_sum_assignment(sim_cos)\n",
    "    end = time()\n",
    "    times.append(end - start)\n",
    "    hits_at_1_eucl = (match_eucl[0] == match_eucl[1]).sum() / i\n",
    "    hits_at_1_cos = (match_cos[0] == match_cos[1]).sum() / i\n",
    "    \n",
    "    print(f'{i} eucl: {hits_at_1_eucl:.04f}, cos: {hits_at_1_cos:.04f}, time: {end - start:.02f}')"
   ]
  },
  {
   "cell_type": "markdown",
   "metadata": {},
   "source": [
    "#### Preparing topological features"
   ]
  },
  {
   "cell_type": "code",
   "execution_count": 7,
   "metadata": {},
   "outputs": [],
   "source": [
    "pm_degree_dict = {}\n",
    "pm_neigh_dict = {}\n",
    "pm_features = np.empty((x1.shape[0], 5))\n",
    "\n",
    "for i in range(x1.shape[0]):\n",
    "    pm_degree_dict.setdefault(i, 0)\n",
    "    pm_neigh_dict.setdefault(i, 0)\n",
    "    \n",
    "for edge in edge_index1.T:\n",
    "    s, t = list(map(int, edge))\n",
    "    pm_degree_dict[s] = pm_degree_dict.setdefault(s, 0) + 1\n",
    "    pm_degree_dict[t] = pm_degree_dict.setdefault(t, 0) + 1\n",
    "\n",
    "for edge in edge_index1.T:\n",
    "    s, t = list(map(int, edge))\n",
    "    pm_neigh_dict[s] = np.append(pm_neigh_dict.setdefault(s, np.array([])), pm_degree_dict[t])\n",
    "    pm_neigh_dict[t] = np.append(pm_neigh_dict.setdefault(t, np.array([])), pm_degree_dict[s])\n",
    "    \n",
    "for i in range(x1.shape[0]):\n",
    "    degree_seq = pm_neigh_dict[i]\n",
    "    deg = pm_degree_dict[i]\n",
    "    min_deg = np.min(degree_seq)\n",
    "    max_deg = np.max(degree_seq)\n",
    "    mean_deg = np.mean(degree_seq)\n",
    "    std_deg = np.std(degree_seq)\n",
    "    pm_features[i][0] \n",
    "    pm_features[i][1] = min_deg\n",
    "    pm_features[i][2] = max_deg\n",
    "    pm_features[i][3] = mean_deg\n",
    "    pm_features[i][4] = std_deg\n",
    "    \n",
    "del(pm_degree_dict)\n",
    "del(pm_neigh_dict)\n",
    "\n",
    "x1 = torch.tensor(pm_features).float()\n",
    "\n",
    "\n",
    "ot_degree_dict = {}\n",
    "ot_neigh_dict = {}\n",
    "ot_features = np.empty((x2.shape[0], 5))\n",
    "\n",
    "for i in range(x2.shape[0]):\n",
    "    ot_degree_dict.setdefault(i, 0)\n",
    "    ot_neigh_dict.setdefault(i, 0)\n",
    "    \n",
    "for edge in edge_index2.T:\n",
    "    s, t = list(map(int, edge))\n",
    "    ot_degree_dict[s] = ot_degree_dict.setdefault(s, 0) + 1\n",
    "    ot_degree_dict[t] = ot_degree_dict.setdefault(t, 0) + 1\n",
    "\n",
    "for edge in edge_index2.T:\n",
    "    s, t = list(map(int, edge))\n",
    "    ot_neigh_dict[s] = np.append(ot_neigh_dict.setdefault(s, np.array([])), ot_degree_dict[t])\n",
    "    ot_neigh_dict[t] = np.append(ot_neigh_dict.setdefault(t, np.array([])), ot_degree_dict[s])\n",
    "\n",
    "for i in range(x2.shape[0]):\n",
    "    degree_seq = ot_neigh_dict[i]\n",
    "    deg = ot_degree_dict[i]\n",
    "    min_deg = np.min(degree_seq)\n",
    "    max_deg = np.max(degree_seq)\n",
    "    mean_deg = np.mean(degree_seq)\n",
    "    std_deg = np.std(degree_seq)\n",
    "    ot_features[i][0] = deg\n",
    "    ot_features[i][1] = min_deg\n",
    "    ot_features[i][2] = max_deg\n",
    "    ot_features[i][3] = mean_deg\n",
    "    ot_features[i][4] = std_deg\n",
    "    \n",
    "del(ot_degree_dict)\n",
    "del(ot_neigh_dict)\n",
    "\n",
    "x2 = torch.tensor(ot_features).float()"
   ]
  },
  {
   "cell_type": "markdown",
   "metadata": {},
   "source": [
    "#### Hungarian algorithm on topological features"
   ]
  },
  {
   "cell_type": "code",
   "execution_count": 8,
   "metadata": {},
   "outputs": [
    {
     "name": "stdout",
     "output_type": "stream",
     "text": [
      "10 eucl: 0.3000, cos: 0.0000, time: 0.00\n",
      "100 eucl: 0.0600, cos: 0.0400, time: 0.00\n",
      "300 eucl: 0.0267, cos: 0.0200, time: 0.06\n",
      "500 eucl: 0.0140, cos: 0.0120, time: 0.26\n",
      "1000 eucl: 0.0070, cos: 0.0060, time: 1.82\n",
      "2000 eucl: 0.0045, cos: 0.0035, time: 13.36\n",
      "4000 eucl: 0.0015, cos: 0.0020, time: 120.77\n",
      "8000 eucl: 0.0011, cos: 0.0004, time: 985.25\n",
      "15000 eucl: 0.0003, cos: 0.0002, time: 7461.92\n"
     ]
    }
   ],
   "source": [
    "times = []\n",
    "for i in [10, 100, 300, 500, 1000, 2000, 4000, 8000, 15000]:\n",
    "    x_pm = x1[:i]\n",
    "    x_ot = x2[:i]\n",
    "    sim_eucl = x_pm @ x_ot.T\n",
    "    sim_cos = pairwise_distances(x_pm, x_ot, metric='cosine')\n",
    "    start = time()\n",
    "    match_eucl = linear_sum_assignment(sim_eucl, maximize=True)\n",
    "    match_cos = linear_sum_assignment(sim_cos)\n",
    "    end = time()\n",
    "    times.append(end - start)\n",
    "    hits_at_1_eucl = (match_eucl[0] == match_eucl[1]).sum() / i\n",
    "    hits_at_1_cos = (match_cos[0] == match_cos[1]).sum() / i\n",
    "    print(f'{i} eucl: {hits_at_1_eucl:.04f}, cos: {hits_at_1_cos:.04f}, time: {end - start:.02f}')"
   ]
  }
 ],
 "metadata": {
  "kernelspec": {
   "display_name": "Python 3",
   "language": "python",
   "name": "python3"
  },
  "language_info": {
   "codemirror_mode": {
    "name": "ipython",
    "version": 3
   },
   "file_extension": ".py",
   "mimetype": "text/x-python",
   "name": "python",
   "nbconvert_exporter": "python",
   "pygments_lexer": "ipython3",
   "version": "3.7.6"
  }
 },
 "nbformat": 4,
 "nbformat_minor": 4
}
