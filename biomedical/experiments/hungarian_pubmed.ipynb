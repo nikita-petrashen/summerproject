{
 "cells": [
  {
   "cell_type": "code",
   "execution_count": 31,
   "metadata": {},
   "outputs": [],
   "source": [
    "from scipy.optimize import linear_sum_assignment\n",
    "from sklearn.metrics import pairwise_distances\n",
    "from time import time\n",
    "import numpy as np\n",
    "import torch"
   ]
  },
  {
   "cell_type": "code",
   "execution_count": 32,
   "metadata": {},
   "outputs": [],
   "source": [
    "x1_path = '../graph_data/pm_node_embeddings.pt'\n",
    "x2_path = '../graph_data/ot_node_embeddings.pt'\n",
    "edge_index1_path = '../graph_data/pm_edge_index.pt'\n",
    "edge_index2_path = '../graph_data/ot_edge_index.pt'\n",
    "\n",
    "x1 = torch.load(x1_path).float()\n",
    "x2 = torch.load(x2_path).float()\n",
    "edge_index1 = torch.load(edge_index1_path)\n",
    "edge_index2 = torch.load(edge_index2_path)"
   ]
  },
  {
   "cell_type": "markdown",
   "metadata": {},
   "source": [
    "#### Hungarian algorithm on embeddings"
   ]
  },
  {
   "cell_type": "code",
   "execution_count": 34,
   "metadata": {},
   "outputs": [
    {
     "name": "stdout",
     "output_type": "stream",
     "text": [
      "10 eucl: 1.00, cos: 1.00, time: 0.00\n",
      "100 eucl: 0.94, cos: 0.94, time: 0.00\n",
      "300 eucl: 0.83, cos: 0.87, time: 0.01\n",
      "500 eucl: 0.78, cos: 0.84, time: 0.03\n",
      "1000 eucl: 0.63, cos: 0.70, time: 0.20\n",
      "2000 eucl: 0.57, cos: 0.64, time: 1.55\n",
      "4000 eucl: 0.66, cos: 0.71, time: 13.06\n",
      "8000 eucl: 0.81, cos: 0.83, time: 70.51\n",
      "11702 eucl: 0.74, cos: 0.76, time: 127.05\n"
     ]
    }
   ],
   "source": [
    "times = []\n",
    "for i in [10, 100, 300, 500, 1000, 2000, 4000, 8000, 11702]:\n",
    "    x_pm = x1[:i]\n",
    "    x_ot = x2[:i]\n",
    "    sim_eucl = pairwise_distances(x_pm, x_ot)\n",
    "    sim_cos = pairwise_distances(x_pm, x_ot, metric='cosine')\n",
    "    start = time()\n",
    "    match_eucl = linear_sum_assignment(sim_eucl)\n",
    "    match_cos = linear_sum_assignment(sim_cos)\n",
    "    end = time()\n",
    "    times.append(end - start)\n",
    "    hits_at_1_eucl = (match_eucl[0] == match_eucl[1]).sum() / i\n",
    "    hits_at_1_cos = (match_cos[0] == match_cos[1]).sum() / i\n",
    "    \n",
    "    print(f'{i} eucl: {hits_at_1_eucl:.02f}, cos: {hits_at_1_cos:.02f}, time: {end - start:.02f}')"
   ]
  },
  {
   "cell_type": "markdown",
   "metadata": {},
   "source": [
    "#### Preparing topological features"
   ]
  },
  {
   "cell_type": "code",
   "execution_count": 29,
   "metadata": {},
   "outputs": [],
   "source": [
    "pm_degree_dict = {}\n",
    "pm_neigh_dict = {}\n",
    "pm_features = np.empty((x1.shape[0], 5))\n",
    "\n",
    "for i in range(x1.shape[0]):\n",
    "    pm_degree_dict.setdefault(i, 0)\n",
    "    pm_neigh_dict.setdefault(i, 0)\n",
    "    \n",
    "for edge in edge_index1.T:\n",
    "    s, t = list(map(int, edge))\n",
    "    pm_degree_dict[s] = pm_degree_dict.setdefault(s, 0) + 1\n",
    "    pm_degree_dict[t] = pm_degree_dict.setdefault(t, 0) + 1\n",
    "\n",
    "for edge in edge_index1.T:\n",
    "    s, t = list(map(int, edge))\n",
    "    pm_neigh_dict[s] = np.append(pm_neigh_dict.setdefault(s, np.array([])), pm_degree_dict[t])\n",
    "    pm_neigh_dict[t] = np.append(pm_neigh_dict.setdefault(t, np.array([])), pm_degree_dict[s])\n",
    "    \n",
    "for i in range(x1.shape[0]):\n",
    "    degree_seq = pm_neigh_dict[i]\n",
    "    deg = pm_degree_dict[i]\n",
    "    min_deg = np.min(degree_seq)\n",
    "    max_deg = np.max(degree_seq)\n",
    "    mean_deg = np.mean(degree_seq)\n",
    "    std_deg = np.std(degree_seq)\n",
    "    pm_features[i][0] \n",
    "    pm_features[i][1] = min_deg\n",
    "    pm_features[i][2] = max_deg\n",
    "    pm_features[i][3] = mean_deg\n",
    "    pm_features[i][4] = std_deg\n",
    "    \n",
    "del(pm_degree_dict)\n",
    "del(pm_neigh_dict)\n",
    "\n",
    "x1 = torch.tensor(pm_features).float()\n",
    "\n",
    "\n",
    "ot_degree_dict = {}\n",
    "ot_neigh_dict = {}\n",
    "ot_features = np.empty((x2.shape[0], 5))\n",
    "\n",
    "for i in range(x2.shape[0]):\n",
    "    ot_degree_dict.setdefault(i, 0)\n",
    "    ot_neigh_dict.setdefault(i, 0)\n",
    "    \n",
    "for edge in edge_index2.T:\n",
    "    s, t = list(map(int, edge))\n",
    "    ot_degree_dict[s] = ot_degree_dict.setdefault(s, 0) + 1\n",
    "    ot_degree_dict[t] = ot_degree_dict.setdefault(t, 0) + 1\n",
    "\n",
    "for edge in edge_index2.T:\n",
    "    s, t = list(map(int, edge))\n",
    "    ot_neigh_dict[s] = np.append(ot_neigh_dict.setdefault(s, np.array([])), ot_degree_dict[t])\n",
    "    ot_neigh_dict[t] = np.append(ot_neigh_dict.setdefault(t, np.array([])), ot_degree_dict[s])\n",
    "\n",
    "for i in range(x2.shape[0]):\n",
    "    degree_seq = ot_neigh_dict[i]\n",
    "    deg = ot_degree_dict[i]\n",
    "    min_deg = np.min(degree_seq)\n",
    "    max_deg = np.max(degree_seq)\n",
    "    mean_deg = np.mean(degree_seq)\n",
    "    std_deg = np.std(degree_seq)\n",
    "    ot_features[i][0] = deg\n",
    "    ot_features[i][1] = min_deg\n",
    "    ot_features[i][2] = max_deg\n",
    "    ot_features[i][3] = mean_deg\n",
    "    ot_features[i][4] = std_deg\n",
    "    \n",
    "del(ot_degree_dict)\n",
    "del(ot_neigh_dict)\n",
    "\n",
    "x2 = torch.tensor(ot_features).float()"
   ]
  },
  {
   "cell_type": "markdown",
   "metadata": {},
   "source": [
    "#### Hungarian algorithm on topological features"
   ]
  },
  {
   "cell_type": "code",
   "execution_count": 30,
   "metadata": {},
   "outputs": [
    {
     "name": "stdout",
     "output_type": "stream",
     "text": [
      "10 eucl: 0.2000, cos: 0.1000, time: 0.00\n",
      "100 eucl: 0.0200, cos: 0.0200, time: 0.00\n",
      "300 eucl: 0.0000, cos: 0.0033, time: 0.05\n",
      "500 eucl: 0.0040, cos: 0.0020, time: 0.16\n",
      "1000 eucl: 0.0020, cos: 0.0010, time: 0.90\n",
      "2000 eucl: 0.0000, cos: 0.0005, time: 7.76\n",
      "4000 eucl: 0.0000, cos: 0.0000, time: 74.64\n",
      "8000 eucl: 0.0000, cos: 0.0001, time: 780.68\n",
      "11701 eucl: 0.0002, cos: 0.0005, time: 2073.52\n"
     ]
    }
   ],
   "source": [
    "times = []\n",
    "for i in [10, 100, 300, 500, 1000, 2000, 4000, 8000, 11701]:\n",
    "    x_pm = x1[:i]\n",
    "    x_ot = x2[:i]\n",
    "    sim_eucl = x_pm @ x_ot.T\n",
    "    sim_cos = pairwise_distances(x_pm, x_ot, metric='cosine')\n",
    "    start = time()\n",
    "    match_eucl = linear_sum_assignment(sim_eucl, maximize=True)\n",
    "    match_cos = linear_sum_assignment(sim_cos)\n",
    "    end = time()\n",
    "    times.append(end - start)\n",
    "    hits_at_1_eucl = (match_eucl[0] == match_eucl[1]).sum() / i\n",
    "    hits_at_1_cos = (match_cos[0] == match_cos[1]).sum() / i\n",
    "    print(f'{i} eucl: {hits_at_1_eucl:.04f}, cos: {hits_at_1_cos:.04f}, time: {end - start:.02f}')"
   ]
  }
 ],
 "metadata": {
  "kernelspec": {
   "display_name": "Python 3",
   "language": "python",
   "name": "python3"
  },
  "language_info": {
   "codemirror_mode": {
    "name": "ipython",
    "version": 3
   },
   "file_extension": ".py",
   "mimetype": "text/x-python",
   "name": "python",
   "nbconvert_exporter": "python",
   "pygments_lexer": "ipython3",
   "version": "3.7.6"
  }
 },
 "nbformat": 4,
 "nbformat_minor": 4
}
